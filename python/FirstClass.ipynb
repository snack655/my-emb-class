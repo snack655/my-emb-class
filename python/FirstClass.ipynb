{
 "cells": [
  {
   "cell_type": "code",
   "execution_count": 6,
   "id": "27d63dc0",
   "metadata": {},
   "outputs": [
    {
     "data": {
      "text/plain": [
       "2"
      ]
     },
     "execution_count": 6,
     "metadata": {},
     "output_type": "execute_result"
    }
   ],
   "source": [
    "1 + 1"
   ]
  },
  {
   "cell_type": "code",
   "execution_count": 7,
   "id": "aeaa18a6",
   "metadata": {},
   "outputs": [
    {
     "data": {
      "text/plain": [
       "3"
      ]
     },
     "execution_count": 7,
     "metadata": {},
     "output_type": "execute_result"
    }
   ],
   "source": [
    "1+2"
   ]
  },
  {
   "cell_type": "code",
   "execution_count": 8,
   "id": "0232cf1e",
   "metadata": {},
   "outputs": [
    {
     "data": {
      "text/plain": [
       "2"
      ]
     },
     "execution_count": 8,
     "metadata": {},
     "output_type": "execute_result"
    }
   ],
   "source": [
    "1*2"
   ]
  },
  {
   "cell_type": "code",
   "execution_count": 9,
   "id": "677e71e1",
   "metadata": {},
   "outputs": [
    {
     "data": {
      "text/plain": [
       "-1"
      ]
     },
     "execution_count": 9,
     "metadata": {},
     "output_type": "execute_result"
    }
   ],
   "source": [
    "1-2"
   ]
  },
  {
   "cell_type": "code",
   "execution_count": 10,
   "id": "f2ac41c7",
   "metadata": {},
   "outputs": [
    {
     "data": {
      "text/plain": [
       "4"
      ]
     },
     "execution_count": 10,
     "metadata": {},
     "output_type": "execute_result"
    }
   ],
   "source": [
    "1<<2"
   ]
  },
  {
   "cell_type": "code",
   "execution_count": 11,
   "id": "79d60de2",
   "metadata": {},
   "outputs": [
    {
     "data": {
      "text/plain": [
       "8"
      ]
     },
     "execution_count": 11,
     "metadata": {},
     "output_type": "execute_result"
    }
   ],
   "source": [
    "2<<2"
   ]
  },
  {
   "cell_type": "code",
   "execution_count": 12,
   "id": "76066c0d",
   "metadata": {},
   "outputs": [
    {
     "data": {
      "text/plain": [
       "0"
      ]
     },
     "execution_count": 12,
     "metadata": {},
     "output_type": "execute_result"
    }
   ],
   "source": [
    "1>>2"
   ]
  },
  {
   "cell_type": "code",
   "execution_count": 13,
   "id": "2b78078d",
   "metadata": {},
   "outputs": [
    {
     "data": {
      "text/plain": [
       "0"
      ]
     },
     "execution_count": 13,
     "metadata": {},
     "output_type": "execute_result"
    }
   ],
   "source": [
    "1 & 2"
   ]
  },
  {
   "cell_type": "code",
   "execution_count": 14,
   "id": "6a839087",
   "metadata": {},
   "outputs": [
    {
     "data": {
      "text/plain": [
       "1"
      ]
     },
     "execution_count": 14,
     "metadata": {},
     "output_type": "execute_result"
    }
   ],
   "source": [
    "1 & 1"
   ]
  },
  {
   "cell_type": "code",
   "execution_count": 15,
   "id": "770fc77c",
   "metadata": {},
   "outputs": [
    {
     "ename": "SyntaxError",
     "evalue": "invalid syntax (3280347098.py, line 1)",
     "output_type": "error",
     "traceback": [
      "\u001b[0;36m  Input \u001b[0;32mIn [15]\u001b[0;36m\u001b[0m\n\u001b[0;31m    1 && 1\u001b[0m\n\u001b[0m       ^\u001b[0m\n\u001b[0;31mSyntaxError\u001b[0m\u001b[0;31m:\u001b[0m invalid syntax\n"
     ]
    }
   ],
   "source": [
    "1 && 1"
   ]
  },
  {
   "cell_type": "code",
   "execution_count": 16,
   "id": "da03e17f",
   "metadata": {},
   "outputs": [
    {
     "data": {
      "text/plain": [
       "1"
      ]
     },
     "execution_count": 16,
     "metadata": {},
     "output_type": "execute_result"
    }
   ],
   "source": [
    "1 and 1"
   ]
  },
  {
   "cell_type": "code",
   "execution_count": 17,
   "id": "127309e2",
   "metadata": {},
   "outputs": [
    {
     "data": {
      "text/plain": [
       "1"
      ]
     },
     "execution_count": 17,
     "metadata": {},
     "output_type": "execute_result"
    }
   ],
   "source": [
    "1 % 2"
   ]
  },
  {
   "cell_type": "code",
   "execution_count": 18,
   "id": "7fb643ac",
   "metadata": {},
   "outputs": [
    {
     "data": {
      "text/plain": [
       "0"
      ]
     },
     "execution_count": 18,
     "metadata": {},
     "output_type": "execute_result"
    }
   ],
   "source": [
    "2 % 2"
   ]
  },
  {
   "cell_type": "code",
   "execution_count": 19,
   "id": "aa1e9aa7",
   "metadata": {},
   "outputs": [],
   "source": [
    "# haha"
   ]
  },
  {
   "cell_type": "markdown",
   "id": "ecce334b",
   "metadata": {},
   "source": [
    "# 안녕하세요 파이썬을 시작해볼게요\n",
    "## 하하ㅏ하하하ㅏ하하\n",
    "### 한상빈 돼지\n",
    "* 나이스"
   ]
  },
  {
   "cell_type": "code",
   "execution_count": 20,
   "id": "921042e1",
   "metadata": {},
   "outputs": [
    {
     "data": {
      "text/plain": [
       "2.5"
      ]
     },
     "execution_count": 20,
     "metadata": {},
     "output_type": "execute_result"
    }
   ],
   "source": [
    "10 / 4"
   ]
  },
  {
   "cell_type": "code",
   "execution_count": 21,
   "id": "fba82bb4",
   "metadata": {},
   "outputs": [
    {
     "data": {
      "text/plain": [
       "100"
      ]
     },
     "execution_count": 21,
     "metadata": {},
     "output_type": "execute_result"
    }
   ],
   "source": [
    "10 ** 2"
   ]
  },
  {
   "cell_type": "code",
   "execution_count": 22,
   "id": "7b389c45",
   "metadata": {},
   "outputs": [
    {
     "data": {
      "text/plain": [
       "12"
      ]
     },
     "execution_count": 22,
     "metadata": {},
     "output_type": "execute_result"
    }
   ],
   "source": [
    "(2+2)*3"
   ]
  },
  {
   "cell_type": "code",
   "execution_count": 23,
   "id": "57f30707",
   "metadata": {},
   "outputs": [
    {
     "data": {
      "text/plain": [
       "8"
      ]
     },
     "execution_count": 23,
     "metadata": {},
     "output_type": "execute_result"
    }
   ],
   "source": [
    "2 + 2 * 3"
   ]
  },
  {
   "cell_type": "code",
   "execution_count": 24,
   "id": "11b0bc5d",
   "metadata": {},
   "outputs": [
    {
     "data": {
      "text/plain": [
       "False"
      ]
     },
     "execution_count": 24,
     "metadata": {},
     "output_type": "execute_result"
    }
   ],
   "source": [
    "1 > 2"
   ]
  },
  {
   "cell_type": "code",
   "execution_count": 25,
   "id": "924d0b01",
   "metadata": {},
   "outputs": [
    {
     "data": {
      "text/plain": [
       "False"
      ]
     },
     "execution_count": 25,
     "metadata": {},
     "output_type": "execute_result"
    }
   ],
   "source": [
    "2 > 2"
   ]
  },
  {
   "cell_type": "code",
   "execution_count": 26,
   "id": "4e7091da",
   "metadata": {},
   "outputs": [
    {
     "data": {
      "text/plain": [
       "True"
      ]
     },
     "execution_count": 26,
     "metadata": {},
     "output_type": "execute_result"
    }
   ],
   "source": [
    "2 >= 2"
   ]
  },
  {
   "cell_type": "code",
   "execution_count": 27,
   "id": "a64be765",
   "metadata": {},
   "outputs": [
    {
     "data": {
      "text/plain": [
       "True"
      ]
     },
     "execution_count": 27,
     "metadata": {},
     "output_type": "execute_result"
    }
   ],
   "source": [
    "1 == 1"
   ]
  },
  {
   "cell_type": "code",
   "execution_count": 28,
   "id": "0d03bc9b",
   "metadata": {},
   "outputs": [
    {
     "data": {
      "text/plain": [
       "False"
      ]
     },
     "execution_count": 28,
     "metadata": {},
     "output_type": "execute_result"
    }
   ],
   "source": [
    "1 != 1"
   ]
  },
  {
   "cell_type": "code",
   "execution_count": 29,
   "id": "247304b9",
   "metadata": {},
   "outputs": [
    {
     "data": {
      "text/plain": [
       "4"
      ]
     },
     "execution_count": 29,
     "metadata": {},
     "output_type": "execute_result"
    }
   ],
   "source": [
    "1 + 1\n",
    "2 + 2"
   ]
  },
  {
   "cell_type": "code",
   "execution_count": 30,
   "id": "30dfd151",
   "metadata": {},
   "outputs": [
    {
     "ename": "NameError",
     "evalue": "name 'ᄊ겯' is not defined",
     "output_type": "error",
     "traceback": [
      "\u001b[0;31m---------------------------------------------------------------------------\u001b[0m",
      "\u001b[0;31mNameError\u001b[0m                                 Traceback (most recent call last)",
      "Input \u001b[0;32mIn [30]\u001b[0m, in \u001b[0;36m<cell line: 1>\u001b[0;34m()\u001b[0m\n\u001b[0;32m----> 1\u001b[0m \u001b[43mㅆ겯\u001b[49m \u001b[38;5;241m&\u001b[39m ㄹ민ㄷ\n",
      "\u001b[0;31mNameError\u001b[0m: name 'ᄊ겯' is not defined"
     ]
    }
   ],
   "source": [
    "ㅆ겯 & ㄹ민ㄷ"
   ]
  },
  {
   "cell_type": "code",
   "execution_count": 31,
   "id": "209df4e2",
   "metadata": {},
   "outputs": [
    {
     "data": {
      "text/plain": [
       "False"
      ]
     },
     "execution_count": 31,
     "metadata": {},
     "output_type": "execute_result"
    }
   ],
   "source": [
    "True & False"
   ]
  },
  {
   "cell_type": "code",
   "execution_count": 32,
   "id": "e1c041b9",
   "metadata": {},
   "outputs": [],
   "source": [
    "a = 2"
   ]
  },
  {
   "cell_type": "code",
   "execution_count": 33,
   "id": "31240274",
   "metadata": {},
   "outputs": [
    {
     "data": {
      "text/plain": [
       "2"
      ]
     },
     "execution_count": 33,
     "metadata": {},
     "output_type": "execute_result"
    }
   ],
   "source": [
    "a"
   ]
  },
  {
   "cell_type": "code",
   "execution_count": 34,
   "id": "aa6645a0",
   "metadata": {},
   "outputs": [],
   "source": [
    "b = 3.3"
   ]
  },
  {
   "cell_type": "code",
   "execution_count": 35,
   "id": "3a29f6c6",
   "metadata": {},
   "outputs": [
    {
     "data": {
      "text/plain": [
       "3.3"
      ]
     },
     "execution_count": 35,
     "metadata": {},
     "output_type": "execute_result"
    }
   ],
   "source": [
    "b"
   ]
  },
  {
   "cell_type": "code",
   "execution_count": 36,
   "id": "0b708754",
   "metadata": {},
   "outputs": [
    {
     "data": {
      "text/plain": [
       "'한생빈'"
      ]
     },
     "execution_count": 36,
     "metadata": {},
     "output_type": "execute_result"
    }
   ],
   "source": [
    "cibal = \"한생빈\"\n",
    "cibal"
   ]
  },
  {
   "cell_type": "code",
   "execution_count": 37,
   "id": "bc4b0460",
   "metadata": {},
   "outputs": [
    {
     "data": {
      "text/plain": [
       "0.1"
      ]
     },
     "execution_count": 37,
     "metadata": {},
     "output_type": "execute_result"
    }
   ],
   "source": [
    "a = .1\n",
    "a"
   ]
  },
  {
   "cell_type": "code",
   "execution_count": 38,
   "id": "01ad233d",
   "metadata": {},
   "outputs": [
    {
     "data": {
      "text/plain": [
       "56.9123121231"
      ]
     },
     "execution_count": 38,
     "metadata": {},
     "output_type": "execute_result"
    }
   ],
   "source": [
    "10.0 * 5.69123121231"
   ]
  },
  {
   "cell_type": "code",
   "execution_count": 39,
   "id": "d3d55e32",
   "metadata": {},
   "outputs": [
    {
     "data": {
      "text/plain": [
       "int"
      ]
     },
     "execution_count": 39,
     "metadata": {},
     "output_type": "execute_result"
    }
   ],
   "source": [
    "type(10)"
   ]
  },
  {
   "cell_type": "code",
   "execution_count": 42,
   "id": "400e9fda",
   "metadata": {},
   "outputs": [],
   "source": [
    "a = 5.0"
   ]
  },
  {
   "cell_type": "code",
   "execution_count": 43,
   "id": "9e86c541",
   "metadata": {},
   "outputs": [
    {
     "data": {
      "text/plain": [
       "float"
      ]
     },
     "execution_count": 43,
     "metadata": {},
     "output_type": "execute_result"
    }
   ],
   "source": [
    "type(a)"
   ]
  },
  {
   "cell_type": "code",
   "execution_count": 44,
   "id": "e2fe38b0",
   "metadata": {},
   "outputs": [
    {
     "data": {
      "text/plain": [
       "13451.41241"
      ]
     },
     "execution_count": 44,
     "metadata": {},
     "output_type": "execute_result"
    }
   ],
   "source": [
    "1345141241e-5\n"
   ]
  },
  {
   "cell_type": "code",
   "execution_count": 45,
   "id": "095ac16c",
   "metadata": {},
   "outputs": [
    {
     "data": {
      "text/plain": [
       "'0b11'"
      ]
     },
     "execution_count": 45,
     "metadata": {},
     "output_type": "execute_result"
    }
   ],
   "source": [
    "bin(3)"
   ]
  },
  {
   "cell_type": "code",
   "execution_count": 46,
   "id": "751a6989",
   "metadata": {},
   "outputs": [
    {
     "data": {
      "text/plain": [
       "0.30000000000000004"
      ]
     },
     "execution_count": 46,
     "metadata": {},
     "output_type": "execute_result"
    }
   ],
   "source": [
    "0.1 + 0.2"
   ]
  },
  {
   "cell_type": "code",
   "execution_count": 47,
   "id": "9c9d4ed4",
   "metadata": {},
   "outputs": [
    {
     "name": "stdout",
     "output_type": "stream",
     "text": [
      "* * * * * * * * * * \n"
     ]
    }
   ],
   "source": [
    "print(\"* \" * 10)"
   ]
  },
  {
   "cell_type": "code",
   "execution_count": 48,
   "id": "1bd123e8",
   "metadata": {},
   "outputs": [
    {
     "name": "stdout",
     "output_type": "stream",
     "text": [
      "ahaha\n"
     ]
    }
   ],
   "source": [
    "print(\"ahaha\")"
   ]
  },
  {
   "cell_type": "code",
   "execution_count": 57,
   "id": "a61e0a5f",
   "metadata": {},
   "outputs": [
    {
     "name": "stdout",
     "output_type": "stream",
     "text": [
      "한상빈 \n",
      "     뛰.. \n",
      "      어.. \n",
      "       내.. \n",
      "        려.. \n",
      "         라..\n"
     ]
    }
   ],
   "source": [
    "print(\"한상빈 \\n     뛰.. \\n      어.. \\n       내.. \\n        려.. \\n         라..\")"
   ]
  },
  {
   "cell_type": "code",
   "execution_count": 59,
   "id": "24235730",
   "metadata": {},
   "outputs": [
    {
     "name": "stdout",
     "output_type": "stream",
     "text": [
      "\"haha\"\n"
     ]
    }
   ],
   "source": [
    "print('\"haha\"')"
   ]
  },
  {
   "cell_type": "code",
   "execution_count": 65,
   "id": "cf84e053",
   "metadata": {},
   "outputs": [
    {
     "name": "stdout",
     "output_type": "stream",
     "text": [
      "아니 한상빈 이 돼지는 무슨\n",
      "맨날 먹기만 하냐 진짜 옆에서 기름 냄새 지린다.\n",
      "어우 또 먹네 또 먹어\n"
     ]
    }
   ],
   "source": [
    "print(\n",
    "\"\"\"아니 한상빈 이 돼지는 무슨\n",
    "맨날 먹기만 하냐 진짜 옆에서 기름 냄새 지린다.\n",
    "어우 또 먹네 또 먹어\"\"\"\n",
    ")"
   ]
  },
  {
   "cell_type": "code",
   "execution_count": 62,
   "id": "8245d02a",
   "metadata": {},
   "outputs": [
    {
     "data": {
      "text/plain": [
       "'Hello 최민재'"
      ]
     },
     "execution_count": 62,
     "metadata": {},
     "output_type": "execute_result"
    }
   ],
   "source": [
    "\"Hello %s\" % \"최민재\"\n"
   ]
  },
  {
   "cell_type": "code",
   "execution_count": 63,
   "id": "2a8c4c03",
   "metadata": {},
   "outputs": [
    {
     "data": {
      "text/plain": [
       "'Hello we are 한상빈, 손원, 류지훈'"
      ]
     },
     "execution_count": 63,
     "metadata": {},
     "output_type": "execute_result"
    }
   ],
   "source": [
    "\"Hello we are %s, %s, %s\" % (\"한상빈\", \"손원\", \"류지훈\")"
   ]
  },
  {
   "cell_type": "code",
   "execution_count": 66,
   "id": "c1b1a17c",
   "metadata": {},
   "outputs": [
    {
     "data": {
      "text/plain": [
       "'내 이름은 최민재입니다.'"
      ]
     },
     "execution_count": 66,
     "metadata": {},
     "output_type": "execute_result"
    }
   ],
   "source": [
    "\"내 이름은 {}입니다.\".format(\"최민재\")"
   ]
  },
  {
   "cell_type": "code",
   "execution_count": 73,
   "id": "d3be4dd9",
   "metadata": {},
   "outputs": [
    {
     "name": "stdout",
     "output_type": "stream",
     "text": [
      "입력해주세요 : 3\n",
      "haha\n"
     ]
    }
   ],
   "source": [
    "a = int(input(\"입력해주세요 : \"))\n",
    "if a == 3:\n",
    "    print(\"haha\")\n",
    "else:\n",
    "    print(\"nono\")"
   ]
  },
  {
   "cell_type": "code",
   "execution_count": 75,
   "id": "e7eafc54",
   "metadata": {},
   "outputs": [],
   "source": [
    "def printNiceMan(name):\n",
    "    print(\"nice man %s\" % name)\n",
    "    return \"nice man\""
   ]
  },
  {
   "cell_type": "code",
   "execution_count": 76,
   "id": "41499a5a",
   "metadata": {},
   "outputs": [
    {
     "name": "stdout",
     "output_type": "stream",
     "text": [
      "nice man minjae\n",
      "nice man\n"
     ]
    }
   ],
   "source": [
    "print(printNiceMan(\"minjae\"))"
   ]
  },
  {
   "cell_type": "code",
   "execution_count": 77,
   "id": "5283f69f",
   "metadata": {},
   "outputs": [],
   "source": [
    "f = lambda x : 2 * x"
   ]
  },
  {
   "cell_type": "code",
   "execution_count": 78,
   "id": "3509d979",
   "metadata": {},
   "outputs": [
    {
     "data": {
      "text/plain": [
       "4"
      ]
     },
     "execution_count": 78,
     "metadata": {},
     "output_type": "execute_result"
    }
   ],
   "source": [
    "f(2)"
   ]
  },
  {
   "cell_type": "code",
   "execution_count": 79,
   "id": "518e5e81",
   "metadata": {},
   "outputs": [
    {
     "name": "stdout",
     "output_type": "stream",
     "text": [
      "ahhahaha\n",
      "ahhahaha\n",
      "ahhahaha\n",
      "ahhahaha\n",
      "ahhahaha\n",
      "ahhahaha\n",
      "ahhahaha\n",
      "ahhahaha\n",
      "ahhahaha\n",
      "ahhahaha\n"
     ]
    }
   ],
   "source": [
    "for i in range(10):\n",
    "    print(\"ahhahaha\")"
   ]
  },
  {
   "cell_type": "code",
   "execution_count": 80,
   "id": "45934ad1",
   "metadata": {},
   "outputs": [
    {
     "name": "stdout",
     "output_type": "stream",
     "text": [
      "\n",
      "*\n",
      "**\n",
      "***\n",
      "****\n",
      "*****\n",
      "******\n",
      "*******\n",
      "********\n",
      "*********\n"
     ]
    }
   ],
   "source": [
    "for i in range(10):\n",
    "    print(\"*\" * i)"
   ]
  },
  {
   "cell_type": "code",
   "execution_count": 81,
   "id": "665c8c81",
   "metadata": {},
   "outputs": [
    {
     "data": {
      "text/plain": [
       "[1, 2, 3]"
      ]
     },
     "execution_count": 81,
     "metadata": {},
     "output_type": "execute_result"
    }
   ],
   "source": [
    "x = [1, 2, 3]\n",
    "x"
   ]
  },
  {
   "cell_type": "code",
   "execution_count": 82,
   "id": "e2cf8abf",
   "metadata": {},
   "outputs": [
    {
     "data": {
      "text/plain": [
       "list"
      ]
     },
     "execution_count": 82,
     "metadata": {},
     "output_type": "execute_result"
    }
   ],
   "source": [
    "type(x)"
   ]
  },
  {
   "cell_type": "code",
   "execution_count": 87,
   "id": "a6ba1252",
   "metadata": {},
   "outputs": [
    {
     "data": {
      "text/plain": [
       "tuple"
      ]
     },
     "execution_count": 87,
     "metadata": {},
     "output_type": "execute_result"
    }
   ],
   "source": [
    "#tuple\n",
    "a = (1, 2, 3)\n",
    "a\n",
    "type(a)"
   ]
  },
  {
   "cell_type": "code",
   "execution_count": 88,
   "id": "e9bf8be6",
   "metadata": {},
   "outputs": [
    {
     "data": {
      "text/plain": [
       "2"
      ]
     },
     "execution_count": 88,
     "metadata": {},
     "output_type": "execute_result"
    }
   ],
   "source": [
    "x[1]"
   ]
  },
  {
   "cell_type": "code",
   "execution_count": 89,
   "id": "3e6fbacc",
   "metadata": {},
   "outputs": [],
   "source": [
    "x[1] = 5"
   ]
  },
  {
   "cell_type": "code",
   "execution_count": 90,
   "id": "69f50bf5",
   "metadata": {},
   "outputs": [
    {
     "data": {
      "text/plain": [
       "5"
      ]
     },
     "execution_count": 90,
     "metadata": {},
     "output_type": "execute_result"
    }
   ],
   "source": [
    "x[1]"
   ]
  },
  {
   "cell_type": "code",
   "execution_count": 91,
   "id": "4976e36e",
   "metadata": {},
   "outputs": [
    {
     "ename": "TypeError",
     "evalue": "'tuple' object is not callable",
     "output_type": "error",
     "traceback": [
      "\u001b[0;31m---------------------------------------------------------------------------\u001b[0m",
      "\u001b[0;31mTypeError\u001b[0m                                 Traceback (most recent call last)",
      "Input \u001b[0;32mIn [91]\u001b[0m, in \u001b[0;36m<cell line: 1>\u001b[0;34m()\u001b[0m\n\u001b[0;32m----> 1\u001b[0m \u001b[43ma\u001b[49m\u001b[43m(\u001b[49m\u001b[38;5;241;43m2\u001b[39;49m\u001b[43m)\u001b[49m\n",
      "\u001b[0;31mTypeError\u001b[0m: 'tuple' object is not callable"
     ]
    }
   ],
   "source": [
    "a(2)"
   ]
  },
  {
   "cell_type": "code",
   "execution_count": 92,
   "id": "83ecf46e",
   "metadata": {},
   "outputs": [
    {
     "data": {
      "text/plain": [
       "3"
      ]
     },
     "execution_count": 92,
     "metadata": {},
     "output_type": "execute_result"
    }
   ],
   "source": [
    "a[2]"
   ]
  },
  {
   "cell_type": "code",
   "execution_count": 93,
   "id": "8cbd16d0",
   "metadata": {},
   "outputs": [
    {
     "ename": "TypeError",
     "evalue": "'tuple' object does not support item assignment",
     "output_type": "error",
     "traceback": [
      "\u001b[0;31m---------------------------------------------------------------------------\u001b[0m",
      "\u001b[0;31mTypeError\u001b[0m                                 Traceback (most recent call last)",
      "Input \u001b[0;32mIn [93]\u001b[0m, in \u001b[0;36m<cell line: 1>\u001b[0;34m()\u001b[0m\n\u001b[0;32m----> 1\u001b[0m a[\u001b[38;5;241m2\u001b[39m] \u001b[38;5;241m=\u001b[39m \u001b[38;5;241m5\u001b[39m\n",
      "\u001b[0;31mTypeError\u001b[0m: 'tuple' object does not support item assignment"
     ]
    }
   ],
   "source": [
    "a[2] = 5"
   ]
  },
  {
   "cell_type": "code",
   "execution_count": 94,
   "id": "5c78333d",
   "metadata": {},
   "outputs": [],
   "source": [
    "b = {\"haha\":1, \"hoho\":2}"
   ]
  },
  {
   "cell_type": "code",
   "execution_count": 95,
   "id": "a9309782",
   "metadata": {},
   "outputs": [],
   "source": [
    "b[\"haha\"] = 5"
   ]
  },
  {
   "cell_type": "code",
   "execution_count": 96,
   "id": "74380db3",
   "metadata": {},
   "outputs": [
    {
     "data": {
      "text/plain": [
       "5"
      ]
     },
     "execution_count": 96,
     "metadata": {},
     "output_type": "execute_result"
    }
   ],
   "source": [
    "b[\"haha\"]"
   ]
  },
  {
   "cell_type": "code",
   "execution_count": 97,
   "id": "c26a8b46",
   "metadata": {},
   "outputs": [
    {
     "data": {
      "text/plain": [
       "dict"
      ]
     },
     "execution_count": 97,
     "metadata": {},
     "output_type": "execute_result"
    }
   ],
   "source": [
    "type(b)"
   ]
  },
  {
   "cell_type": "code",
   "execution_count": 99,
   "id": "73c172eb",
   "metadata": {},
   "outputs": [
    {
     "data": {
      "text/plain": [
       "{'haha': 5, 'hoho': 2}"
      ]
     },
     "execution_count": 99,
     "metadata": {},
     "output_type": "execute_result"
    }
   ],
   "source": [
    "b"
   ]
  },
  {
   "cell_type": "code",
   "execution_count": 102,
   "id": "6c3fda08",
   "metadata": {},
   "outputs": [
    {
     "data": {
      "text/plain": [
       "2"
      ]
     },
     "execution_count": 102,
     "metadata": {},
     "output_type": "execute_result"
    }
   ],
   "source": [
    "b[\"hoho\"]"
   ]
  },
  {
   "cell_type": "code",
   "execution_count": 106,
   "id": "fd8ea8a6",
   "metadata": {},
   "outputs": [
    {
     "data": {
      "text/plain": [
       "20"
      ]
     },
     "execution_count": 106,
     "metadata": {},
     "output_type": "execute_result"
    }
   ],
   "source": [
    "e=[[1, 20], [2, 20]]\n",
    "e[0][1]"
   ]
  },
  {
   "cell_type": "code",
   "execution_count": 107,
   "id": "7d302574",
   "metadata": {},
   "outputs": [],
   "source": [
    "a = [{\"aa\":1, \"bb\":2}, {1:3, 2:4}]"
   ]
  },
  {
   "cell_type": "code",
   "execution_count": 108,
   "id": "eb257b58",
   "metadata": {},
   "outputs": [
    {
     "data": {
      "text/plain": [
       "[{'aa': 1, 'bb': 2}, {1: 3, 2: 4}]"
      ]
     },
     "execution_count": 108,
     "metadata": {},
     "output_type": "execute_result"
    }
   ],
   "source": [
    "a"
   ]
  },
  {
   "cell_type": "code",
   "execution_count": 109,
   "id": "8ee2421e",
   "metadata": {},
   "outputs": [
    {
     "data": {
      "text/plain": [
       "2"
      ]
     },
     "execution_count": 109,
     "metadata": {},
     "output_type": "execute_result"
    }
   ],
   "source": [
    "len(a)"
   ]
  },
  {
   "cell_type": "code",
   "execution_count": 110,
   "id": "cc859557",
   "metadata": {},
   "outputs": [],
   "source": [
    "a = list(range(10))"
   ]
  },
  {
   "cell_type": "code",
   "execution_count": 111,
   "id": "e4839900",
   "metadata": {},
   "outputs": [
    {
     "data": {
      "text/plain": [
       "[0, 1, 2, 3, 4, 5, 6, 7, 8, 9]"
      ]
     },
     "execution_count": 111,
     "metadata": {},
     "output_type": "execute_result"
    }
   ],
   "source": [
    "a"
   ]
  },
  {
   "cell_type": "code",
   "execution_count": 112,
   "id": "ec3cb7ef",
   "metadata": {},
   "outputs": [
    {
     "data": {
      "text/plain": [
       "[10000,\n",
       " 10001,\n",
       " 10002,\n",
       " 10003,\n",
       " 10004,\n",
       " 10005,\n",
       " 10006,\n",
       " 10007,\n",
       " 10008,\n",
       " 10009,\n",
       " 10010,\n",
       " 10011,\n",
       " 10012,\n",
       " 10013,\n",
       " 10014,\n",
       " 10015,\n",
       " 10016,\n",
       " 10017,\n",
       " 10018,\n",
       " 10019,\n",
       " 10020,\n",
       " 10021,\n",
       " 10022,\n",
       " 10023,\n",
       " 10024,\n",
       " 10025,\n",
       " 10026,\n",
       " 10027,\n",
       " 10028,\n",
       " 10029,\n",
       " 10030,\n",
       " 10031,\n",
       " 10032,\n",
       " 10033,\n",
       " 10034,\n",
       " 10035,\n",
       " 10036,\n",
       " 10037,\n",
       " 10038,\n",
       " 10039,\n",
       " 10040,\n",
       " 10041,\n",
       " 10042,\n",
       " 10043,\n",
       " 10044,\n",
       " 10045,\n",
       " 10046,\n",
       " 10047,\n",
       " 10048,\n",
       " 10049,\n",
       " 10050,\n",
       " 10051,\n",
       " 10052,\n",
       " 10053,\n",
       " 10054,\n",
       " 10055,\n",
       " 10056,\n",
       " 10057,\n",
       " 10058,\n",
       " 10059,\n",
       " 10060,\n",
       " 10061,\n",
       " 10062,\n",
       " 10063,\n",
       " 10064,\n",
       " 10065,\n",
       " 10066,\n",
       " 10067,\n",
       " 10068,\n",
       " 10069,\n",
       " 10070,\n",
       " 10071,\n",
       " 10072,\n",
       " 10073,\n",
       " 10074,\n",
       " 10075,\n",
       " 10076,\n",
       " 10077,\n",
       " 10078,\n",
       " 10079,\n",
       " 10080,\n",
       " 10081,\n",
       " 10082,\n",
       " 10083,\n",
       " 10084,\n",
       " 10085,\n",
       " 10086,\n",
       " 10087,\n",
       " 10088,\n",
       " 10089,\n",
       " 10090,\n",
       " 10091,\n",
       " 10092,\n",
       " 10093,\n",
       " 10094,\n",
       " 10095,\n",
       " 10096,\n",
       " 10097,\n",
       " 10098,\n",
       " 10099,\n",
       " 10100,\n",
       " 10101,\n",
       " 10102,\n",
       " 10103,\n",
       " 10104,\n",
       " 10105,\n",
       " 10106,\n",
       " 10107,\n",
       " 10108,\n",
       " 10109,\n",
       " 10110,\n",
       " 10111,\n",
       " 10112,\n",
       " 10113,\n",
       " 10114,\n",
       " 10115,\n",
       " 10116,\n",
       " 10117,\n",
       " 10118,\n",
       " 10119,\n",
       " 10120,\n",
       " 10121,\n",
       " 10122,\n",
       " 10123,\n",
       " 10124,\n",
       " 10125,\n",
       " 10126,\n",
       " 10127,\n",
       " 10128,\n",
       " 10129,\n",
       " 10130,\n",
       " 10131,\n",
       " 10132,\n",
       " 10133,\n",
       " 10134,\n",
       " 10135,\n",
       " 10136,\n",
       " 10137,\n",
       " 10138,\n",
       " 10139,\n",
       " 10140,\n",
       " 10141,\n",
       " 10142,\n",
       " 10143,\n",
       " 10144,\n",
       " 10145,\n",
       " 10146,\n",
       " 10147,\n",
       " 10148,\n",
       " 10149,\n",
       " 10150,\n",
       " 10151,\n",
       " 10152,\n",
       " 10153,\n",
       " 10154,\n",
       " 10155,\n",
       " 10156,\n",
       " 10157,\n",
       " 10158,\n",
       " 10159,\n",
       " 10160,\n",
       " 10161,\n",
       " 10162,\n",
       " 10163,\n",
       " 10164,\n",
       " 10165,\n",
       " 10166,\n",
       " 10167,\n",
       " 10168,\n",
       " 10169,\n",
       " 10170,\n",
       " 10171,\n",
       " 10172,\n",
       " 10173,\n",
       " 10174,\n",
       " 10175,\n",
       " 10176,\n",
       " 10177,\n",
       " 10178,\n",
       " 10179,\n",
       " 10180,\n",
       " 10181,\n",
       " 10182,\n",
       " 10183,\n",
       " 10184,\n",
       " 10185,\n",
       " 10186,\n",
       " 10187,\n",
       " 10188,\n",
       " 10189,\n",
       " 10190,\n",
       " 10191,\n",
       " 10192,\n",
       " 10193,\n",
       " 10194,\n",
       " 10195,\n",
       " 10196,\n",
       " 10197,\n",
       " 10198,\n",
       " 10199,\n",
       " 10200,\n",
       " 10201,\n",
       " 10202,\n",
       " 10203,\n",
       " 10204,\n",
       " 10205,\n",
       " 10206,\n",
       " 10207,\n",
       " 10208,\n",
       " 10209,\n",
       " 10210,\n",
       " 10211,\n",
       " 10212,\n",
       " 10213,\n",
       " 10214,\n",
       " 10215,\n",
       " 10216,\n",
       " 10217,\n",
       " 10218,\n",
       " 10219,\n",
       " 10220,\n",
       " 10221,\n",
       " 10222,\n",
       " 10223,\n",
       " 10224,\n",
       " 10225,\n",
       " 10226,\n",
       " 10227,\n",
       " 10228,\n",
       " 10229,\n",
       " 10230,\n",
       " 10231,\n",
       " 10232,\n",
       " 10233,\n",
       " 10234,\n",
       " 10235,\n",
       " 10236,\n",
       " 10237,\n",
       " 10238,\n",
       " 10239,\n",
       " 10240,\n",
       " 10241,\n",
       " 10242,\n",
       " 10243,\n",
       " 10244,\n",
       " 10245,\n",
       " 10246,\n",
       " 10247,\n",
       " 10248,\n",
       " 10249,\n",
       " 10250,\n",
       " 10251,\n",
       " 10252,\n",
       " 10253,\n",
       " 10254,\n",
       " 10255,\n",
       " 10256,\n",
       " 10257,\n",
       " 10258,\n",
       " 10259,\n",
       " 10260,\n",
       " 10261,\n",
       " 10262,\n",
       " 10263,\n",
       " 10264,\n",
       " 10265,\n",
       " 10266,\n",
       " 10267,\n",
       " 10268,\n",
       " 10269,\n",
       " 10270,\n",
       " 10271,\n",
       " 10272,\n",
       " 10273,\n",
       " 10274,\n",
       " 10275,\n",
       " 10276,\n",
       " 10277,\n",
       " 10278,\n",
       " 10279,\n",
       " 10280,\n",
       " 10281,\n",
       " 10282,\n",
       " 10283,\n",
       " 10284,\n",
       " 10285,\n",
       " 10286,\n",
       " 10287,\n",
       " 10288,\n",
       " 10289,\n",
       " 10290,\n",
       " 10291,\n",
       " 10292,\n",
       " 10293,\n",
       " 10294,\n",
       " 10295,\n",
       " 10296,\n",
       " 10297,\n",
       " 10298,\n",
       " 10299,\n",
       " 10300,\n",
       " 10301,\n",
       " 10302,\n",
       " 10303,\n",
       " 10304,\n",
       " 10305,\n",
       " 10306,\n",
       " 10307,\n",
       " 10308,\n",
       " 10309,\n",
       " 10310,\n",
       " 10311,\n",
       " 10312,\n",
       " 10313,\n",
       " 10314,\n",
       " 10315,\n",
       " 10316,\n",
       " 10317,\n",
       " 10318,\n",
       " 10319,\n",
       " 10320,\n",
       " 10321,\n",
       " 10322,\n",
       " 10323,\n",
       " 10324,\n",
       " 10325,\n",
       " 10326,\n",
       " 10327,\n",
       " 10328,\n",
       " 10329,\n",
       " 10330,\n",
       " 10331,\n",
       " 10332,\n",
       " 10333,\n",
       " 10334,\n",
       " 10335,\n",
       " 10336,\n",
       " 10337,\n",
       " 10338,\n",
       " 10339,\n",
       " 10340,\n",
       " 10341,\n",
       " 10342,\n",
       " 10343,\n",
       " 10344,\n",
       " 10345,\n",
       " 10346,\n",
       " 10347,\n",
       " 10348,\n",
       " 10349,\n",
       " 10350,\n",
       " 10351,\n",
       " 10352,\n",
       " 10353,\n",
       " 10354,\n",
       " 10355,\n",
       " 10356,\n",
       " 10357,\n",
       " 10358,\n",
       " 10359,\n",
       " 10360,\n",
       " 10361,\n",
       " 10362,\n",
       " 10363,\n",
       " 10364,\n",
       " 10365,\n",
       " 10366,\n",
       " 10367,\n",
       " 10368,\n",
       " 10369,\n",
       " 10370,\n",
       " 10371,\n",
       " 10372,\n",
       " 10373,\n",
       " 10374,\n",
       " 10375,\n",
       " 10376,\n",
       " 10377,\n",
       " 10378,\n",
       " 10379,\n",
       " 10380,\n",
       " 10381,\n",
       " 10382,\n",
       " 10383,\n",
       " 10384,\n",
       " 10385,\n",
       " 10386,\n",
       " 10387,\n",
       " 10388,\n",
       " 10389,\n",
       " 10390,\n",
       " 10391,\n",
       " 10392,\n",
       " 10393,\n",
       " 10394,\n",
       " 10395,\n",
       " 10396,\n",
       " 10397,\n",
       " 10398,\n",
       " 10399,\n",
       " 10400,\n",
       " 10401,\n",
       " 10402,\n",
       " 10403,\n",
       " 10404,\n",
       " 10405,\n",
       " 10406,\n",
       " 10407,\n",
       " 10408,\n",
       " 10409,\n",
       " 10410,\n",
       " 10411,\n",
       " 10412,\n",
       " 10413,\n",
       " 10414,\n",
       " 10415,\n",
       " 10416,\n",
       " 10417,\n",
       " 10418,\n",
       " 10419,\n",
       " 10420,\n",
       " 10421,\n",
       " 10422,\n",
       " 10423,\n",
       " 10424,\n",
       " 10425,\n",
       " 10426,\n",
       " 10427,\n",
       " 10428,\n",
       " 10429,\n",
       " 10430,\n",
       " 10431,\n",
       " 10432,\n",
       " 10433,\n",
       " 10434,\n",
       " 10435,\n",
       " 10436,\n",
       " 10437,\n",
       " 10438,\n",
       " 10439,\n",
       " 10440,\n",
       " 10441,\n",
       " 10442,\n",
       " 10443,\n",
       " 10444,\n",
       " 10445,\n",
       " 10446,\n",
       " 10447,\n",
       " 10448,\n",
       " 10449,\n",
       " 10450,\n",
       " 10451,\n",
       " 10452,\n",
       " 10453,\n",
       " 10454,\n",
       " 10455,\n",
       " 10456,\n",
       " 10457,\n",
       " 10458,\n",
       " 10459,\n",
       " 10460,\n",
       " 10461,\n",
       " 10462,\n",
       " 10463,\n",
       " 10464,\n",
       " 10465,\n",
       " 10466,\n",
       " 10467,\n",
       " 10468,\n",
       " 10469,\n",
       " 10470,\n",
       " 10471,\n",
       " 10472,\n",
       " 10473,\n",
       " 10474,\n",
       " 10475,\n",
       " 10476,\n",
       " 10477,\n",
       " 10478,\n",
       " 10479,\n",
       " 10480,\n",
       " 10481,\n",
       " 10482,\n",
       " 10483,\n",
       " 10484,\n",
       " 10485,\n",
       " 10486,\n",
       " 10487,\n",
       " 10488,\n",
       " 10489,\n",
       " 10490,\n",
       " 10491,\n",
       " 10492,\n",
       " 10493,\n",
       " 10494,\n",
       " 10495,\n",
       " 10496,\n",
       " 10497,\n",
       " 10498,\n",
       " 10499,\n",
       " 10500,\n",
       " 10501,\n",
       " 10502,\n",
       " 10503,\n",
       " 10504,\n",
       " 10505,\n",
       " 10506,\n",
       " 10507,\n",
       " 10508,\n",
       " 10509,\n",
       " 10510,\n",
       " 10511,\n",
       " 10512,\n",
       " 10513,\n",
       " 10514,\n",
       " 10515,\n",
       " 10516,\n",
       " 10517,\n",
       " 10518,\n",
       " 10519,\n",
       " 10520,\n",
       " 10521,\n",
       " 10522,\n",
       " 10523,\n",
       " 10524,\n",
       " 10525,\n",
       " 10526,\n",
       " 10527,\n",
       " 10528,\n",
       " 10529,\n",
       " 10530,\n",
       " 10531,\n",
       " 10532,\n",
       " 10533,\n",
       " 10534,\n",
       " 10535,\n",
       " 10536,\n",
       " 10537,\n",
       " 10538,\n",
       " 10539,\n",
       " 10540,\n",
       " 10541,\n",
       " 10542,\n",
       " 10543,\n",
       " 10544,\n",
       " 10545,\n",
       " 10546,\n",
       " 10547,\n",
       " 10548,\n",
       " 10549,\n",
       " 10550,\n",
       " 10551,\n",
       " 10552,\n",
       " 10553,\n",
       " 10554,\n",
       " 10555,\n",
       " 10556,\n",
       " 10557,\n",
       " 10558,\n",
       " 10559,\n",
       " 10560,\n",
       " 10561,\n",
       " 10562,\n",
       " 10563,\n",
       " 10564,\n",
       " 10565,\n",
       " 10566,\n",
       " 10567,\n",
       " 10568,\n",
       " 10569,\n",
       " 10570,\n",
       " 10571,\n",
       " 10572,\n",
       " 10573,\n",
       " 10574,\n",
       " 10575,\n",
       " 10576,\n",
       " 10577,\n",
       " 10578,\n",
       " 10579,\n",
       " 10580,\n",
       " 10581,\n",
       " 10582,\n",
       " 10583,\n",
       " 10584,\n",
       " 10585,\n",
       " 10586,\n",
       " 10587,\n",
       " 10588,\n",
       " 10589,\n",
       " 10590,\n",
       " 10591,\n",
       " 10592,\n",
       " 10593,\n",
       " 10594,\n",
       " 10595,\n",
       " 10596,\n",
       " 10597,\n",
       " 10598,\n",
       " 10599,\n",
       " 10600,\n",
       " 10601,\n",
       " 10602,\n",
       " 10603,\n",
       " 10604,\n",
       " 10605,\n",
       " 10606,\n",
       " 10607,\n",
       " 10608,\n",
       " 10609,\n",
       " 10610,\n",
       " 10611,\n",
       " 10612,\n",
       " 10613,\n",
       " 10614,\n",
       " 10615,\n",
       " 10616,\n",
       " 10617,\n",
       " 10618,\n",
       " 10619,\n",
       " 10620,\n",
       " 10621,\n",
       " 10622,\n",
       " 10623,\n",
       " 10624,\n",
       " 10625,\n",
       " 10626,\n",
       " 10627,\n",
       " 10628,\n",
       " 10629,\n",
       " 10630,\n",
       " 10631,\n",
       " 10632,\n",
       " 10633,\n",
       " 10634,\n",
       " 10635,\n",
       " 10636,\n",
       " 10637,\n",
       " 10638,\n",
       " 10639,\n",
       " 10640,\n",
       " 10641,\n",
       " 10642,\n",
       " 10643,\n",
       " 10644,\n",
       " 10645,\n",
       " 10646,\n",
       " 10647,\n",
       " 10648,\n",
       " 10649,\n",
       " 10650,\n",
       " 10651,\n",
       " 10652,\n",
       " 10653,\n",
       " 10654,\n",
       " 10655,\n",
       " 10656,\n",
       " 10657,\n",
       " 10658,\n",
       " 10659,\n",
       " 10660,\n",
       " 10661,\n",
       " 10662,\n",
       " 10663,\n",
       " 10664,\n",
       " 10665,\n",
       " 10666,\n",
       " 10667,\n",
       " 10668,\n",
       " 10669,\n",
       " 10670,\n",
       " 10671,\n",
       " 10672,\n",
       " 10673,\n",
       " 10674,\n",
       " 10675,\n",
       " 10676,\n",
       " 10677,\n",
       " 10678,\n",
       " 10679,\n",
       " 10680,\n",
       " 10681,\n",
       " 10682,\n",
       " 10683,\n",
       " 10684,\n",
       " 10685,\n",
       " 10686,\n",
       " 10687,\n",
       " 10688,\n",
       " 10689,\n",
       " 10690,\n",
       " 10691,\n",
       " 10692,\n",
       " 10693,\n",
       " 10694,\n",
       " 10695,\n",
       " 10696,\n",
       " 10697,\n",
       " 10698,\n",
       " 10699,\n",
       " 10700,\n",
       " 10701,\n",
       " 10702,\n",
       " 10703,\n",
       " 10704,\n",
       " 10705,\n",
       " 10706,\n",
       " 10707,\n",
       " 10708,\n",
       " 10709,\n",
       " 10710,\n",
       " 10711,\n",
       " 10712,\n",
       " 10713,\n",
       " 10714,\n",
       " 10715,\n",
       " 10716,\n",
       " 10717,\n",
       " 10718,\n",
       " 10719,\n",
       " 10720,\n",
       " 10721,\n",
       " 10722,\n",
       " 10723,\n",
       " 10724,\n",
       " 10725,\n",
       " 10726,\n",
       " 10727,\n",
       " 10728,\n",
       " 10729,\n",
       " 10730,\n",
       " 10731,\n",
       " 10732,\n",
       " 10733,\n",
       " 10734,\n",
       " 10735,\n",
       " 10736,\n",
       " 10737,\n",
       " 10738,\n",
       " 10739,\n",
       " 10740,\n",
       " 10741,\n",
       " 10742,\n",
       " 10743,\n",
       " 10744,\n",
       " 10745,\n",
       " 10746,\n",
       " 10747,\n",
       " 10748,\n",
       " 10749,\n",
       " 10750,\n",
       " 10751,\n",
       " 10752,\n",
       " 10753,\n",
       " 10754,\n",
       " 10755,\n",
       " 10756,\n",
       " 10757,\n",
       " 10758,\n",
       " 10759,\n",
       " 10760,\n",
       " 10761,\n",
       " 10762,\n",
       " 10763,\n",
       " 10764,\n",
       " 10765,\n",
       " 10766,\n",
       " 10767,\n",
       " 10768,\n",
       " 10769,\n",
       " 10770,\n",
       " 10771,\n",
       " 10772,\n",
       " 10773,\n",
       " 10774,\n",
       " 10775,\n",
       " 10776,\n",
       " 10777,\n",
       " 10778,\n",
       " 10779,\n",
       " 10780,\n",
       " 10781,\n",
       " 10782,\n",
       " 10783,\n",
       " 10784,\n",
       " 10785,\n",
       " 10786,\n",
       " 10787,\n",
       " 10788,\n",
       " 10789,\n",
       " 10790,\n",
       " 10791,\n",
       " 10792,\n",
       " 10793,\n",
       " 10794,\n",
       " 10795,\n",
       " 10796,\n",
       " 10797,\n",
       " 10798,\n",
       " 10799,\n",
       " 10800,\n",
       " 10801,\n",
       " 10802,\n",
       " 10803,\n",
       " 10804,\n",
       " 10805,\n",
       " 10806,\n",
       " 10807,\n",
       " 10808,\n",
       " 10809,\n",
       " 10810,\n",
       " 10811,\n",
       " 10812,\n",
       " 10813,\n",
       " 10814,\n",
       " 10815,\n",
       " 10816,\n",
       " 10817,\n",
       " 10818,\n",
       " 10819,\n",
       " 10820,\n",
       " 10821,\n",
       " 10822,\n",
       " 10823,\n",
       " 10824,\n",
       " 10825,\n",
       " 10826,\n",
       " 10827,\n",
       " 10828,\n",
       " 10829,\n",
       " 10830,\n",
       " 10831,\n",
       " 10832,\n",
       " 10833,\n",
       " 10834,\n",
       " 10835,\n",
       " 10836,\n",
       " 10837,\n",
       " 10838,\n",
       " 10839,\n",
       " 10840,\n",
       " 10841,\n",
       " 10842,\n",
       " 10843,\n",
       " 10844,\n",
       " 10845,\n",
       " 10846,\n",
       " 10847,\n",
       " 10848,\n",
       " 10849,\n",
       " 10850,\n",
       " 10851,\n",
       " 10852,\n",
       " 10853,\n",
       " 10854,\n",
       " 10855,\n",
       " 10856,\n",
       " 10857,\n",
       " 10858,\n",
       " 10859,\n",
       " 10860,\n",
       " 10861,\n",
       " 10862,\n",
       " 10863,\n",
       " 10864,\n",
       " 10865,\n",
       " 10866,\n",
       " 10867,\n",
       " 10868,\n",
       " 10869,\n",
       " 10870,\n",
       " 10871,\n",
       " 10872,\n",
       " 10873,\n",
       " 10874,\n",
       " 10875,\n",
       " 10876,\n",
       " 10877,\n",
       " 10878,\n",
       " 10879,\n",
       " 10880,\n",
       " 10881,\n",
       " 10882,\n",
       " 10883,\n",
       " 10884,\n",
       " 10885,\n",
       " 10886,\n",
       " 10887,\n",
       " 10888,\n",
       " 10889,\n",
       " 10890,\n",
       " 10891,\n",
       " 10892,\n",
       " 10893,\n",
       " 10894,\n",
       " 10895,\n",
       " 10896,\n",
       " 10897,\n",
       " 10898,\n",
       " 10899,\n",
       " 10900,\n",
       " 10901,\n",
       " 10902,\n",
       " 10903,\n",
       " 10904,\n",
       " 10905,\n",
       " 10906,\n",
       " 10907,\n",
       " 10908,\n",
       " 10909,\n",
       " 10910,\n",
       " 10911,\n",
       " 10912,\n",
       " 10913,\n",
       " 10914,\n",
       " 10915,\n",
       " 10916,\n",
       " 10917,\n",
       " 10918,\n",
       " 10919,\n",
       " 10920,\n",
       " 10921,\n",
       " 10922,\n",
       " 10923,\n",
       " 10924,\n",
       " 10925,\n",
       " 10926,\n",
       " 10927,\n",
       " 10928,\n",
       " 10929,\n",
       " 10930,\n",
       " 10931,\n",
       " 10932,\n",
       " 10933,\n",
       " 10934,\n",
       " 10935,\n",
       " 10936,\n",
       " 10937,\n",
       " 10938,\n",
       " 10939,\n",
       " 10940,\n",
       " 10941,\n",
       " 10942,\n",
       " 10943,\n",
       " 10944,\n",
       " 10945,\n",
       " 10946,\n",
       " 10947,\n",
       " 10948,\n",
       " 10949,\n",
       " 10950,\n",
       " 10951,\n",
       " 10952,\n",
       " 10953,\n",
       " 10954,\n",
       " 10955,\n",
       " 10956,\n",
       " 10957,\n",
       " 10958,\n",
       " 10959,\n",
       " 10960,\n",
       " 10961,\n",
       " 10962,\n",
       " 10963,\n",
       " 10964,\n",
       " 10965,\n",
       " 10966,\n",
       " 10967,\n",
       " 10968,\n",
       " 10969,\n",
       " 10970,\n",
       " 10971,\n",
       " 10972,\n",
       " 10973,\n",
       " 10974,\n",
       " 10975,\n",
       " 10976,\n",
       " 10977,\n",
       " 10978,\n",
       " 10979,\n",
       " 10980,\n",
       " 10981,\n",
       " 10982,\n",
       " 10983,\n",
       " 10984,\n",
       " 10985,\n",
       " 10986,\n",
       " 10987,\n",
       " 10988,\n",
       " 10989,\n",
       " 10990,\n",
       " 10991,\n",
       " 10992,\n",
       " 10993,\n",
       " 10994,\n",
       " 10995,\n",
       " 10996,\n",
       " 10997,\n",
       " 10998,\n",
       " 10999,\n",
       " ...]"
      ]
     },
     "execution_count": 112,
     "metadata": {},
     "output_type": "execute_result"
    }
   ],
   "source": [
    "c = list(range(10000, 1293410))\n",
    "c"
   ]
  },
  {
   "cell_type": "code",
   "execution_count": 113,
   "id": "38c58238",
   "metadata": {},
   "outputs": [],
   "source": [
    "d = list(range(1, 10, 2))"
   ]
  },
  {
   "cell_type": "code",
   "execution_count": 114,
   "id": "915b076f",
   "metadata": {},
   "outputs": [
    {
     "data": {
      "text/plain": [
       "[1, 3, 5, 7, 9]"
      ]
     },
     "execution_count": 114,
     "metadata": {},
     "output_type": "execute_result"
    }
   ],
   "source": [
    "d"
   ]
  },
  {
   "cell_type": "code",
   "execution_count": 115,
   "id": "af096fe3",
   "metadata": {},
   "outputs": [],
   "source": [
    "a.append(10)"
   ]
  },
  {
   "cell_type": "code",
   "execution_count": 116,
   "id": "819367d5",
   "metadata": {},
   "outputs": [
    {
     "data": {
      "text/plain": [
       "[0, 1, 2, 3, 4, 5, 6, 7, 8, 9, 10]"
      ]
     },
     "execution_count": 116,
     "metadata": {},
     "output_type": "execute_result"
    }
   ],
   "source": [
    "a"
   ]
  },
  {
   "cell_type": "code",
   "execution_count": 117,
   "id": "6851fe3b",
   "metadata": {},
   "outputs": [
    {
     "data": {
      "text/plain": [
       "[3, 4]"
      ]
     },
     "execution_count": 117,
     "metadata": {},
     "output_type": "execute_result"
    }
   ],
   "source": [
    "a[3:5]"
   ]
  },
  {
   "cell_type": "code",
   "execution_count": 119,
   "id": "8bd83057",
   "metadata": {},
   "outputs": [
    {
     "data": {
      "text/plain": [
       "10"
      ]
     },
     "execution_count": 119,
     "metadata": {},
     "output_type": "execute_result"
    }
   ],
   "source": [
    "a[-1]"
   ]
  },
  {
   "cell_type": "code",
   "execution_count": 120,
   "id": "322d2741",
   "metadata": {},
   "outputs": [
    {
     "name": "stdout",
     "output_type": "stream",
     "text": [
      "0\n",
      "1\n",
      "2\n",
      "3\n",
      "4\n",
      "5\n",
      "6\n",
      "7\n",
      "8\n",
      "9\n",
      "10\n"
     ]
    }
   ],
   "source": [
    "for i in range(len(a)):\n",
    "    print(i)"
   ]
  },
  {
   "cell_type": "code",
   "execution_count": 122,
   "id": "ff0f0fb5",
   "metadata": {},
   "outputs": [
    {
     "name": "stdout",
     "output_type": "stream",
     "text": [
      "0\n",
      "1\n",
      "2\n",
      "3\n",
      "4\n",
      "5\n",
      "6\n",
      "7\n",
      "8\n",
      "9\n",
      "10\n"
     ]
    }
   ],
   "source": [
    "for i in a:\n",
    "    print(i)"
   ]
  },
  {
   "cell_type": "code",
   "execution_count": 123,
   "id": "dabf9686",
   "metadata": {},
   "outputs": [
    {
     "name": "stdout",
     "output_type": "stream",
     "text": [
      "3\n",
      "4\n",
      "5\n",
      "6\n"
     ]
    }
   ],
   "source": [
    "for i in [3, 4, 5, 6]:\n",
    "    print(i)"
   ]
  },
  {
   "cell_type": "code",
   "execution_count": 124,
   "id": "2fcadc2b",
   "metadata": {},
   "outputs": [
    {
     "data": {
      "text/plain": [
       "{'a': 1, 'b': 2}"
      ]
     },
     "execution_count": 124,
     "metadata": {},
     "output_type": "execute_result"
    }
   ],
   "source": [
    "x = {\"a\": 1, \"b\": 2}\n",
    "x"
   ]
  },
  {
   "cell_type": "code",
   "execution_count": 127,
   "id": "c3654668",
   "metadata": {},
   "outputs": [
    {
     "name": "stdout",
     "output_type": "stream",
     "text": [
      "a\n",
      "b\n"
     ]
    }
   ],
   "source": [
    "for i in x:\n",
    "    print(i)"
   ]
  },
  {
   "cell_type": "code",
   "execution_count": 128,
   "id": "3273d14f",
   "metadata": {},
   "outputs": [
    {
     "data": {
      "text/plain": [
       "dict_values([1, 2])"
      ]
     },
     "execution_count": 128,
     "metadata": {},
     "output_type": "execute_result"
    }
   ],
   "source": [
    "x.values()"
   ]
  },
  {
   "cell_type": "code",
   "execution_count": 129,
   "id": "29be8e5a",
   "metadata": {},
   "outputs": [
    {
     "data": {
      "text/plain": [
       "dict_keys(['a', 'b'])"
      ]
     },
     "execution_count": 129,
     "metadata": {},
     "output_type": "execute_result"
    }
   ],
   "source": [
    "x.keys()"
   ]
  },
  {
   "cell_type": "markdown",
   "id": "3765c40d",
   "metadata": {},
   "source": [
    "## 넘파이\n",
    "> 라이브러리를 만들어두는 것"
   ]
  },
  {
   "cell_type": "code",
   "execution_count": 130,
   "id": "a98b13b6",
   "metadata": {},
   "outputs": [],
   "source": [
    "import numpy as np"
   ]
  },
  {
   "cell_type": "code",
   "execution_count": 133,
   "id": "43932bbd",
   "metadata": {},
   "outputs": [],
   "source": [
    "a = np.array([[1, 2, 3], [4, 5, 6]])"
   ]
  },
  {
   "cell_type": "code",
   "execution_count": 134,
   "id": "14db9b79",
   "metadata": {},
   "outputs": [
    {
     "data": {
      "text/plain": [
       "array([[1, 2, 3],\n",
       "       [4, 5, 6]])"
      ]
     },
     "execution_count": 134,
     "metadata": {},
     "output_type": "execute_result"
    }
   ],
   "source": [
    "a"
   ]
  },
  {
   "cell_type": "code",
   "execution_count": 135,
   "id": "a8529e57",
   "metadata": {},
   "outputs": [
    {
     "data": {
      "text/plain": [
       "array([[3, 4, 5],\n",
       "       [6, 7, 8]])"
      ]
     },
     "execution_count": 135,
     "metadata": {},
     "output_type": "execute_result"
    }
   ],
   "source": [
    "a + 2"
   ]
  },
  {
   "cell_type": "code",
   "execution_count": 136,
   "id": "f5112f6b",
   "metadata": {},
   "outputs": [
    {
     "data": {
      "text/plain": [
       "array([[ 2,  4,  6],\n",
       "       [ 8, 10, 12]])"
      ]
     },
     "execution_count": 136,
     "metadata": {},
     "output_type": "execute_result"
    }
   ],
   "source": [
    "a * 2"
   ]
  },
  {
   "cell_type": "code",
   "execution_count": 137,
   "id": "0a38ee01",
   "metadata": {},
   "outputs": [
    {
     "data": {
      "text/plain": [
       "numpy.ndarray"
      ]
     },
     "execution_count": 137,
     "metadata": {},
     "output_type": "execute_result"
    }
   ],
   "source": [
    "type(a)"
   ]
  },
  {
   "cell_type": "code",
   "execution_count": 138,
   "id": "e5f56ab4",
   "metadata": {},
   "outputs": [
    {
     "data": {
      "text/plain": [
       "(2, 3)"
      ]
     },
     "execution_count": 138,
     "metadata": {},
     "output_type": "execute_result"
    }
   ],
   "source": [
    "a.shape"
   ]
  },
  {
   "cell_type": "code",
   "execution_count": 139,
   "id": "19bbb486",
   "metadata": {},
   "outputs": [
    {
     "data": {
      "text/plain": [
       "dtype('int64')"
      ]
     },
     "execution_count": 139,
     "metadata": {},
     "output_type": "execute_result"
    }
   ],
   "source": [
    "a.dtype"
   ]
  },
  {
   "cell_type": "code",
   "execution_count": null,
   "id": "17e99733",
   "metadata": {},
   "outputs": [],
   "source": []
  }
 ],
 "metadata": {
  "kernelspec": {
   "display_name": "Python 3 (ipykernel)",
   "language": "python",
   "name": "python3"
  },
  "language_info": {
   "codemirror_mode": {
    "name": "ipython",
    "version": 3
   },
   "file_extension": ".py",
   "mimetype": "text/x-python",
   "name": "python",
   "nbconvert_exporter": "python",
   "pygments_lexer": "ipython3",
   "version": "3.9.12"
  }
 },
 "nbformat": 4,
 "nbformat_minor": 5
}
